{
 "cells": [
  {
   "cell_type": "markdown",
   "metadata": {},
   "source": [
    "# Relation Algebra \n",
    "Main operations are:\n",
    "- $\\sigma$ Select (filter rows given some condition $C$)\n",
    "- $\\pi$ Project (filter columns)\n",
    "- $-$ Set Difference (difference between two queries)\n",
    "- $\\cup$ Union (the union of two queries)\n",
    "- $\\times$ Cross Product (each row on the LHS joins to each row on the RHS)\n",
    "- $\\cap$ Intersection (the intersect of two queries)\n",
    "- $\\bowtie$ Natural Join (gives the rows where the LHS and RHS share a common ID)\n",
    "- $\\bowtie_\\theta$ Condition Join / Theta Join / Inner Join (Same as natural join, but given some condition $C$ that must be `True`)"
   ]
  },
  {
   "cell_type": "markdown",
   "metadata": {},
   "source": [
    "# Tables\n",
    "Consider the following tables or dataframe or spreadsheet):\n",
    "- `Person`\n",
    "\n",
    "| FirstName | LastName  | Phone        | Email                    |\n",
    "|-----------|-----------|--------------|--------------------------|\n",
    "| Jon       | Snow      | 0551-999-210 | knowsnothing@hotmail.com |\n",
    "| Daenerys  | Targaryen | 0569-988-112 | bendtheknee@gmail.com    |\n",
    "| Jamie     | Lannister | 0531-987-654 | handsfree@gmail.com      |\n",
    "| Night     | King      | 0566-123-456 | killerstare@gmail.com    |\n",
    "\n",
    "- `Weapon`\n",
    "\n",
    "| Weapon  | Metal          |\n",
    "|---------|----------------|\n",
    "| Sword   | Valyrian steel |\n",
    "| Dagger  | Dragon glass   |"
   ]
  },
  {
   "cell_type": "code",
   "execution_count": 1,
   "metadata": {
    "code_folding": [
     0
    ]
   },
   "outputs": [
    {
     "data": {
      "text/html": [
       "<style>\n",
       "  table {margin-left: 0 !important;}\n",
       "</style>\n"
      ],
      "text/plain": [
       "<IPython.core.display.HTML object>"
      ]
     },
     "metadata": {},
     "output_type": "display_data"
    }
   ],
   "source": [
    "%%html\n",
    "<style>\n",
    "  table {margin-left: 0 !important;}\n",
    "</style>"
   ]
  },
  {
   "cell_type": "code",
   "execution_count": null,
   "metadata": {},
   "outputs": [],
   "source": []
  },
  {
   "cell_type": "markdown",
   "metadata": {},
   "source": [
    "# Example Schema\n",
    "- Read $\\pi$ as `SELECT` and $\\sigma$ as `WHERE`.\n",
    "- Use single quotes `'example'` for SQL.\n",
    "- SQL Syntax is not case sensitive.\n",
    "- `INNER JOIN` is the default `JOIN` if not specified.\n",
    "\n",
    "![schema](schema.png)\n",
    "\n",
    "1. Find the names of all employees.\n",
    "1. Find the names of all employees in department number 1.\n",
    "1. List the names of green items of type C.\n",
    "1. Find the items sold by the departments on the second floor (only show ItemID).\n",
    "1. Find the names of brown items sold by the Recreation department.\n",
    "1. Find the employees whose salary is less than half that of their managers. "
   ]
  },
  {
   "cell_type": "code",
   "execution_count": null,
   "metadata": {},
   "outputs": [],
   "source": []
  },
  {
   "cell_type": "code",
   "execution_count": null,
   "metadata": {},
   "outputs": [],
   "source": []
  },
  {
   "cell_type": "code",
   "execution_count": null,
   "metadata": {},
   "outputs": [],
   "source": []
  },
  {
   "cell_type": "code",
   "execution_count": null,
   "metadata": {},
   "outputs": [],
   "source": []
  },
  {
   "cell_type": "code",
   "execution_count": null,
   "metadata": {},
   "outputs": [],
   "source": []
  },
  {
   "cell_type": "code",
   "execution_count": null,
   "metadata": {},
   "outputs": [],
   "source": []
  },
  {
   "cell_type": "code",
   "execution_count": null,
   "metadata": {},
   "outputs": [],
   "source": []
  },
  {
   "cell_type": "code",
   "execution_count": null,
   "metadata": {},
   "outputs": [],
   "source": []
  },
  {
   "cell_type": "markdown",
   "metadata": {},
   "source": [
    "```mysql\n",
    "-- Find the names of all employees.\n",
    "\n",
    "SELECT EmployeeName\n",
    "FROM Employee;\n",
    "\n",
    "-- Find the names of all employees in department number 1.\n",
    "\n",
    "SELECT EmployeeName\n",
    "FROM Employee\n",
    "WHERE DepartmentID = 1;\n",
    "\n",
    "-- List the names of green items of type C.\n",
    "\n",
    "SELECT ItemName\n",
    "FROM Item\n",
    "WHERE ItemColour = 'Green'\n",
    "  AND ItemType = 'C';\n",
    "\n",
    "-- Find the items sold by the departments on the second floor (only show ItemID).\n",
    "\n",
    "SELECT ItemID\n",
    "FROM Sale\n",
    "NATURAL JOIN Department\n",
    "WHERE DepartmentFloor = 2;\n",
    "\n",
    "-- Find the names of brown items sold by the Recreation department.\n",
    "\n",
    "SELECT ItemName\n",
    "FROM Item\n",
    "NATURAL JOIN Sale\n",
    "NATURAL JOIN Department\n",
    "WHERE DepartmentName = 'Recreation'\n",
    "  AND ItemColour = 'Brown';\n",
    "\n",
    "-- Find the employees whose salary is less than half that of their managers.\n",
    "\n",
    "SELECT emp.EmployeeName\n",
    "FROM Employee AS emp\n",
    "INNER JOIN Employee AS boss ON emp.BossID = boss.EmployeeID\n",
    "WHERE emp.EmployeeSalary < (boss.EmployeeSalary / 2);\n",
    "```"
   ]
  },
  {
   "cell_type": "code",
   "execution_count": null,
   "metadata": {},
   "outputs": [],
   "source": []
  }
 ],
 "metadata": {
  "kernelspec": {
   "display_name": "Python 3",
   "language": "python",
   "name": "python3"
  },
  "language_info": {
   "codemirror_mode": {
    "name": "ipython",
    "version": 3
   },
   "file_extension": ".py",
   "mimetype": "text/x-python",
   "name": "python",
   "nbconvert_exporter": "python",
   "pygments_lexer": "ipython3",
   "version": "3.8.5"
  },
  "varInspector": {
   "cols": {
    "lenName": 16,
    "lenType": 16,
    "lenVar": 40
   },
   "kernels_config": {
    "python": {
     "delete_cmd_postfix": "",
     "delete_cmd_prefix": "del ",
     "library": "var_list.py",
     "varRefreshCmd": "print(var_dic_list())"
    },
    "r": {
     "delete_cmd_postfix": ") ",
     "delete_cmd_prefix": "rm(",
     "library": "var_list.r",
     "varRefreshCmd": "cat(var_dic_list()) "
    }
   },
   "types_to_exclude": [
    "module",
    "function",
    "builtin_function_or_method",
    "instance",
    "_Feature"
   ],
   "window_display": false
  }
 },
 "nbformat": 4,
 "nbformat_minor": 4
}
