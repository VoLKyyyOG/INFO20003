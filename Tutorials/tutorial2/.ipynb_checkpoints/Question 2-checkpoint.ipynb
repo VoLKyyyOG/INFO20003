{
 "cells": [
  {
   "cell_type": "markdown",
   "metadata": {},
   "source": [
    "# Cinema Problem (from week 1 - 133% zoom)"
   ]
  },
  {
   "cell_type": "markdown",
   "metadata": {},
   "source": [
    "### Entities and Attributes\n",
    "**Screen:**\n",
    "- ID (incremental index from 1, INT)\n",
    "- Size (in feet, FLOAT)\n",
    "- Capacity (INT)\n",
    "- Gold Class (BOOL)\n",
    "\n",
    "**Projectors:**\n",
    "- Type (ENUM: 16mm, 35mm, 2D, 3D)\n",
    "- Serial No. (INT or VARCHAR)\n",
    "- Model No. (INT or VARCHAR)\n",
    "- Resolution (ENUM or VARCHAR)\n",
    "- Hours of Use (INT or FLOAT)\n",
    "\n",
    "**Movies:**\n",
    "- Last Time Shown (DATE or DATETIME)\n",
    "- Title (VARCHAR)\n",
    "- Year (DATE or DATETIME or INT or VARCHAR)\n",
    "- Rating (ENUM: G, PG, M, MA, R)\n",
    "\n",
    "**Cinema:**\n",
    "- ID (INT)\n",
    "- Rent (FLOAT)\n",
    "- Name (VARCHAR)\n",
    "- Address (VARCHAR - _may also be a composite attribute including PostCode, Street Name, Street Num, etc..._)"
   ]
  },
  {
   "cell_type": "markdown",
   "metadata": {},
   "source": [
    "### Business Rules (Requirements):\n",
    "**Screen in Cinema:**\n",
    "- Screen **must** be located in **exactly one** cinema\n",
    "- Cinema **must** containt **at least one** screen\n",
    "\n",
    "**Projector projects to Screen:**\n",
    "- A projector **may** project onto **exactly one** screen\n",
    "- A screen **may** be projected onto by **exactly one** projector\n",
    "\n",
    "**Screen shows Movie:**:\n",
    "- A screen **may** show **many** movies\n",
    "- A movie **may** be shown on **many** screens\n",
    "\n",
    "<img src=\"chen.png\" align=\"left\" style=\"width: 55vw; min-width: 330px;\"/>"
   ]
  },
  {
   "cell_type": "markdown",
   "metadata": {},
   "source": [
    " "
   ]
  },
  {
   "cell_type": "markdown",
   "metadata": {},
   "source": [
    " "
   ]
  },
  {
   "cell_type": "markdown",
   "metadata": {},
   "source": [
    " "
   ]
  },
  {
   "cell_type": "markdown",
   "metadata": {},
   "source": [
    " "
   ]
  },
  {
   "cell_type": "markdown",
   "metadata": {},
   "source": [
    "### Business Rules (Requirements):\n",
    "**Screen in Cinema:**\n",
    "- Screen **must** be located in **exactly one** cinema _(bold arrow)_\n",
    "- Cinema **must** contain **at least one** screen _(bold line)_\n",
    "\n",
    "**Projector projects to Screen:**\n",
    "- A projector **may** project onto **exactly one** screen _(arrow)_\n",
    "- A screen **may** be projected onto by **exactly one** projector _(arrow)_\n",
    "\n",
    "**Screen shows Movie:**:\n",
    "- A screen **may** show **many** movies _(line)_\n",
    "- A movie **may** be shown on **many** screens _(line)_"
   ]
  },
  {
   "cell_type": "markdown",
   "metadata": {},
   "source": [
    " "
   ]
  },
  {
   "cell_type": "markdown",
   "metadata": {},
   "source": [
    " "
   ]
  },
  {
   "cell_type": "markdown",
   "metadata": {},
   "source": [
    " "
   ]
  },
  {
   "cell_type": "markdown",
   "metadata": {},
   "source": [
    " "
   ]
  },
  {
   "cell_type": "markdown",
   "metadata": {},
   "source": [
    " "
   ]
  },
  {
   "cell_type": "markdown",
   "metadata": {},
   "source": [
    " "
   ]
  },
  {
   "cell_type": "markdown",
   "metadata": {},
   "source": [
    "### Weak Entities + Identifying Relationships\n",
    "A screen can only exist inside a cinema:\n",
    "- Screen is a weak entity, Located In is the identifying relationship\n",
    "- Therefore, to uniquely identify a screen, we will use the Cinema ID (underline) + Screen ID (dashed underline)\n",
    "\n",
    "### Key Attributes (Primary Keys)\n",
    "- Projector: Serial No (Model Number is not unique as several projectors may be from the same model)\n",
    "- Screen: ID (plus the Cinema ID)\n",
    "- Cinema: ID\n",
    "- Movie: **need to create a new ID column** (i.e a surrogate ID as Title may not always be unique...)\n",
    "\n",
    "Surrogate ID's are essentially an index ID column to unique identify each instance, i.e fast food order)"
   ]
  },
  {
   "cell_type": "markdown",
   "metadata": {},
   "source": [
    " "
   ]
  },
  {
   "cell_type": "markdown",
   "metadata": {},
   "source": [
    " "
   ]
  },
  {
   "cell_type": "markdown",
   "metadata": {},
   "source": [
    " "
   ]
  },
  {
   "cell_type": "markdown",
   "metadata": {},
   "source": [
    " "
   ]
  },
  {
   "cell_type": "markdown",
   "metadata": {},
   "source": [
    " "
   ]
  },
  {
   "cell_type": "markdown",
   "metadata": {},
   "source": [
    " "
   ]
  },
  {
   "cell_type": "markdown",
   "metadata": {},
   "source": [
    " "
   ]
  },
  {
   "cell_type": "markdown",
   "metadata": {},
   "source": [
    " "
   ]
  },
  {
   "cell_type": "markdown",
   "metadata": {},
   "source": [
    " "
   ]
  }
 ],
 "metadata": {
  "kernelspec": {
   "display_name": "Python 3",
   "language": "python",
   "name": "python3"
  },
  "language_info": {
   "codemirror_mode": {
    "name": "ipython",
    "version": 3
   },
   "file_extension": ".py",
   "mimetype": "text/x-python",
   "name": "python",
   "nbconvert_exporter": "python",
   "pygments_lexer": "ipython3",
   "version": "3.8.5"
  },
  "varInspector": {
   "cols": {
    "lenName": 16,
    "lenType": 16,
    "lenVar": 40
   },
   "kernels_config": {
    "python": {
     "delete_cmd_postfix": "",
     "delete_cmd_prefix": "del ",
     "library": "var_list.py",
     "varRefreshCmd": "print(var_dic_list())"
    },
    "r": {
     "delete_cmd_postfix": ") ",
     "delete_cmd_prefix": "rm(",
     "library": "var_list.r",
     "varRefreshCmd": "cat(var_dic_list()) "
    }
   },
   "types_to_exclude": [
    "module",
    "function",
    "builtin_function_or_method",
    "instance",
    "_Feature"
   ],
   "window_display": false
  }
 },
 "nbformat": 4,
 "nbformat_minor": 4
}
